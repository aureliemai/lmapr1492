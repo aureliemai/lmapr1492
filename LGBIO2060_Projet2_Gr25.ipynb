{
  "nbformat": 4,
  "nbformat_minor": 0,
  "metadata": {
    "colab": {
      "name": "LGBIO2060_Projet2_Gr25.ipynb",
      "provenance": [],
      "collapsed_sections": [],
      "include_colab_link": true
    },
    "kernelspec": {
      "name": "python3",
      "display_name": "Python 3"
    },
    "language_info": {
      "name": "python"
    }
  },
  "cells": [
    {
      "cell_type": "markdown",
      "metadata": {
        "id": "view-in-github",
        "colab_type": "text"
      },
      "source": [
        "<a href=\"https://colab.research.google.com/github/aureliemai/lmapr1492/blob/main/LGBIO2060_Projet2_Gr25.ipynb\" target=\"_parent\"><img src=\"https://colab.research.google.com/assets/colab-badge.svg\" alt=\"Open In Colab\"/></a>"
      ]
    },
    {
      "cell_type": "markdown",
      "metadata": {
        "id": "JXBXI9lR_bN6"
      },
      "source": [
        "#Project 2 : Hidden Markov models and optimal control\n",
        "Authors : Simon Vandergooten and Clémence Vandamme.\n",
        "\n",
        "In this second project, you will implement a Hidden Markov Model with 3 states and apply to your posterior probabilities optimal control. In other words, based on your knowledge and uncertainties, you will decide the optimal actions you need to take in any situation.\n",
        "\n",
        "##Context :\n",
        "The belgian government is trying to develop a new strategy to differentiate between patients with hypertension and those with hypotension in order to help preventing fainting and cardiac arrest.\n",
        "\n",
        "Patients can be in one of the three following states : healthy, hypertension or hypotension. The patient's health status is represented by the vector $S$, where each value $s_t$ represents the patient's status in day $t$. The government also provides you the transition probabilities between each state, based on data from the national public health department.\n",
        "\n",
        "You received the blood pressure measurements of a patient for 150 days. Those measurements are made with a new state-of-the-art tool. However, the design of this tool is not yet perfected and the measurements are for the moment very imprecise. Based on these data, you are asked to provide an estimate of the true state of the patient. \n",
        "\n",
        "Furthermore, two drugs are available on the market. One aims to lower the blood pressure, the other increases it. At each moment, you need to determine if you should take a drug and which one. However, take into account that these drugs have a cost and that taking a drug when healthy represents a risk to make the situation worse.  \n",
        "\n",
        "##Practical information:\n",
        "### HMM\n",
        "\n",
        "The following graph sums up the different states and their transition probabilities. **The initial state is healthy**.\n",
        "\n",
        "<img alt='Solution hint' align='center' width=413 height=300 src=https://raw.githubusercontent.com/svandergoote/LGBIO2060-2021/master/Solutions/Projet2_bis.png> \n",
        "\n",
        "\\\\\n",
        "\n",
        "### Measurements\n",
        "\n",
        "Concerning the measurements $m_t$, the systolic blood pressure levels are distributed as follow:\n",
        "\n",
        "* $m_t \\sim \\mathcal{N}$(120, $\\sigma_{healthy}^2$) if $s_t$ = 'healthy'.\n",
        "\n",
        "* $m_t \\sim \\mathcal{N}$(160, $\\sigma_{hyper}^2$) if $s_t$ = 'hyper'.\n",
        "\n",
        "* $m_t \\sim \\mathcal{N}$(80, $\\sigma_{hypo}^2$) if $s_t$ = 'hypo'.\n",
        "\n",
        "Where $\\sigma_{healthy}, \\, \\sigma_{hyper}, \\, \\sigma_{hypo}=27, \\, 30\\, , 28$  are the measurement noise related to the new tool.\n",
        " \n",
        "\n",
        "\\\\\n",
        "### Potential actions and their effects\n",
        "\n",
        "Each day, you have 3 options:\n",
        "- Take a drug A\n",
        "    - It has 80% chances to **lower** your tension to 120 if you suffer from **hypertension**. (Therefore, 20% chances to have no effect). \n",
        "    - It has 40% chance to **lower** your tension to 80 if you were **healthy**. \n",
        "    - It has **no effect** if you suffer from **hypotension**.\n",
        "\n",
        "- Take a drug B \n",
        "    - It has 80% chances to **increase** your tension to 120 if you suffer from **hypotension**.\n",
        "    - It has 40% chances to **increase** your tension to 160 if you were **healthy**.\n",
        "    - It has **no effect** if you suffer from **hypertension**.\n",
        "\n",
        "- Do nothing: no effect on your blood pressure in any state. \n",
        "\n",
        "NOTE : The action has no impact on the state transition and the state itself. It should only be the most appropropriate action based on your belief about the state.\n",
        "\n",
        "\\\\\n",
        "### Utility and cost\n",
        "Utility values associated to blood pressure: \n",
        "- 120 mmHg : U = +2\n",
        "- 160 mmHg : U = -2 (risk of heart attack)\n",
        "- 80 mmHg : U = -1 (risk of fainting) \n",
        "\n",
        "Costs:\n",
        "- Drug A : 2\n",
        "- Drug B : 2\n",
        "\n",
        "\n",
        "\n",
        "\n",
        "\n"
      ]
    },
    {
      "cell_type": "markdown",
      "metadata": {
        "id": "897nu5sKSy7b"
      },
      "source": [
        "## Guidelines \n",
        "\n",
        "**READ THIS PART CAREFULLY**\n",
        "\n",
        "For the first part of the project, you are asked to estimate the posterior probability of each state at any time, based on the measurements vector M and on the transition probabilities. M contains 150 measurements. Then, graphically represent the evolution of these probabilities. The way you plot these data are up to you, make it readable and interpretable (you do not necessarily have to represent all the time step). \n",
        "\n",
        "\n",
        "In the second part, determine the policy you will follow at each time step to choose the optimal action. Based on this policy, return the vector of actions taken for the given data. A policy must be optimal in the sense that it maximizes the benefit (utility) and minimizes the cost. It simply consists in setting a threshold on your posterior belief. For example, \"*if I have more than 65% probability to have hypertension, I will take drug A*\" is a policy. We give you the 100 first true states to test different policies (i.e, different thresholds) and determine which one is the best. Indeed, with the true states, you can determine the impact of your actions and compute both the benefit and the cost. \n",
        "After finding your optimal policy, you can look at the actions chosen for your measures for which you do not have the true states (i.e the last 50 measurements).\n",
        "\n",
        "\n",
        "Finally, discuss the impact of some relevant parameters of the model. For exemple, what do you observe in the policy and selected actions if the cost of both drugs increase ? \n",
        "\n",
        "\n",
        "\\\\\n",
        "###To sum up:\n",
        "\n",
        "1) Create your HMM and compute the posterior probabilities associated to each state based on the measurements. \n",
        "\n",
        "2) Graphically represent the evolution of the posteriors.\n",
        "\n",
        "3) Define an optimal policy (this answer must appear clearly).  \n",
        "\n",
        "4) Based on your policy, determine the drug to take at each time step for the given data. \n",
        "\n",
        "5) Discuss the impact of the parameters of the model on the policy and the resulting actions. \n",
        "\n",
        "\n",
        "###Data:\n",
        "\n",
        "- The vector $S$ containing the 100 first hidden states $s_t$: \n",
        "  * $s_t$ = 'healthy' if the patient's state is healthy for day $t$ \n",
        "  * $s_t$ = 'hyper' if the patient's state is hypertension for day $t$ \n",
        "  * $s_t$ = 'hypo' if the patient's state is hypotension for day $t$ \n",
        "\n",
        "  It must be only used to determine the optimal policy. **It cannot be used for the HMM**. \n",
        "\n",
        "- The vector $M$ containing 150 measurements $m_t$. It is a vector of scalars. \n",
        "\n",
        "###Submission\n",
        "Like for the first project, you must submit your notebook with all your answers. \\\\\n",
        "The **deadline is the Thurday 25 November 23:59**. Name your notebook as follow : \"LGBIO2060_Projet2_Grxx\". \\\\\n",
        "Don't forget to register for a timeslot for the oral evaluation."
      ]
    },
    {
      "cell_type": "code",
      "metadata": {
        "id": "CX9HkUVS_YJT",
        "cellView": "form"
      },
      "source": [
        "#@title Imports\n",
        "\n",
        "import numpy as np\n",
        "import pandas as pd \n",
        "import io\n",
        "import matplotlib.pyplot as plt\n",
        "from scipy import stats\n",
        "import ipywidgets as widgets"
      ],
      "execution_count": 70,
      "outputs": []
    },
    {
      "cell_type": "code",
      "metadata": {
        "colab": {
          "resources": {
            "http://localhost:8080/nbextensions/google.colab/files.js": {
              "data": "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",
              "ok": true,
              "headers": [
                [
                  "content-type",
                  "application/javascript"
                ]
              ],
              "status": 200,
              "status_text": ""
            }
          },
          "base_uri": "https://localhost:8080/",
          "height": 107
        },
        "id": "d9osGR3Kt-Kg",
        "outputId": "22949f2e-9a4f-4d32-8490-0e9e6346b40f"
      },
      "source": [
        "#@title Files upload\n",
        "from google.colab import files\n",
        "uploaded = files.upload()\n",
        "\n",
        "S = pd.read_csv(io.BytesIO(uploaded['S_training.csv'])).to_numpy()[:,1:]\n",
        "M = pd.read_csv(io.BytesIO(uploaded['M.csv'])).to_numpy()[:,1:]"
      ],
      "execution_count": null,
      "outputs": [
        {
          "output_type": "display_data",
          "data": {
            "text/html": [
              "\n",
              "     <input type=\"file\" id=\"files-657e92d7-aa51-4439-9e59-eaf1dd5da421\" name=\"files[]\" multiple disabled\n",
              "        style=\"border:none\" />\n",
              "     <output id=\"result-657e92d7-aa51-4439-9e59-eaf1dd5da421\">\n",
              "      Upload widget is only available when the cell has been executed in the\n",
              "      current browser session. Please rerun this cell to enable.\n",
              "      </output>\n",
              "      <script src=\"/nbextensions/google.colab/files.js\"></script> "
            ],
            "text/plain": [
              "<IPython.core.display.HTML object>"
            ]
          },
          "metadata": {}
        },
        {
          "output_type": "stream",
          "name": "stdout",
          "text": [
            "Saving M.csv to M (2).csv\n",
            "Saving S_training.csv to S_training (2).csv\n"
          ]
        }
      ]
    },
    {
      "cell_type": "markdown",
      "metadata": {
        "id": "XVpzLJL5RbhA"
      },
      "source": [
        "### 1) Create your HMM and compute the posterior probabilities associated to each state based on the measurements\n"
      ]
    },
    {
      "cell_type": "code",
      "metadata": {
        "id": "wTu-TVZNw0ML"
      },
      "source": [
        "#@title 1.1 Calculate likelihood of seeing data `M` for all measurement models\n",
        "def compute_likelihood(means, sigma, M):\n",
        "  \"\"\" Calculate likelihood of seeing data `M` for all measurement models\n",
        "  Returns:\n",
        "    L (matrix): the likelihood\n",
        "  \"\"\"\n",
        "  \n",
        "  #Initialization of distribution\n",
        "  p_healthy = stats.norm(loc = means[0], scale = sigma[0])\n",
        "  p_hyper   = stats.norm(loc = means[1], scale = sigma[1])\n",
        "  p_hypo    = stats.norm(loc = means[2], scale = sigma[2])\n",
        "\n",
        "\n",
        "  #Extract the likelihood from pdf\n",
        "  L = np.zeros(3)\n",
        "  for i in range(len(M)):\n",
        "    L[0] = np.array([p_healthy.pdf(M[i])])\n",
        "    L[1] = np.array([p_hyper.pdf(M[i])])\n",
        "    L[2] = np.array([p_hypo.pdf(M[i])])\n",
        "  \n",
        "  return L\n",
        "\n"
      ],
      "execution_count": null,
      "outputs": []
    },
    {
      "cell_type": "code",
      "metadata": {
        "id": "xhTbT2Az0SHn",
        "cellView": "form"
      },
      "source": [
        "#@title 1.2 Given a HMM model, calculate the one-time-step updates to the posterior\n",
        "def one_step_update(T, posterior_tm1, M_t, means, sigma):\n",
        "  \"\"\" Given a HMM model, calculate the one-time-step updates to the posterior.\n",
        "  Returns:\n",
        "    prediction (numpy array): prediction at `t` (Today's prior)\n",
        "    likelihood (numpy array): likelihood of seeing data M_t for all measurements models\n",
        "    posterior_t (numpy array): Posterior at `t`\n",
        "  \"\"\"\n",
        "\n",
        "  # Calculate predictive probabilities (prior)\n",
        "  prediction = posterior_tm1.dot(T) #Multiplication du vecteur posterior_tm1 avec la matrice T\n",
        "\n",
        "  #Get the likelihood (Hint: Use compute_likelihood)\n",
        "  likelihood = compute_likelihood(means, sigma, M_t)\n",
        "\n",
        "  #Calculate posterior\n",
        "  posterior_t = prediction * likelihood\n",
        "\n",
        "  #Normalize\n",
        "  posterior_t /= np.sum(posterior_t)\n",
        "\n",
        "  return prediction, likelihood, posterior_t"
      ],
      "execution_count": null,
      "outputs": []
    },
    {
      "cell_type": "code",
      "metadata": {
        "id": "ee14krck1eDB"
      },
      "source": [
        "#@title 1.3 Given the HMM model, calculate posterior marginal predictions of x_t for N-1 time steps ahead based on evidence data\n",
        "def simulate_forward_inference(means, sigma, T, startProba, N, data):\n",
        "  \"\"\"\n",
        "  Returns:\n",
        "    predictive_probs (numpy array): predictive probabilities \n",
        "    likelihoods (numpy array): likelihood of seeing data M_t for all measurements models\n",
        "    posterior_probs (numpy array): posterior probabilities \n",
        "  \"\"\"\n",
        "  \n",
        "  #Initialize arrays\n",
        "  predictive_probs = np.zeros((N,3))\n",
        "  likelihoods = np.zeros((N,3))\n",
        "  posterior_probs = np.zeros((N,3))\n",
        "\n",
        "  #Calculate marginal for each latent state x_t\n",
        "\n",
        "  #Start with the first element\n",
        "  predictive_probs[0,:] = startProba\n",
        "  likelihoods[0,:] = compute_likelihood(means, sigma, data[0])\n",
        "  posterior = predictive_probs[0,:] * likelihoods[0,:]\n",
        "  posterior_probs[0,:] = posterior / np.sum(posterior)\n",
        "\n",
        "  #Then iterate for the rest of the N elements\n",
        "  for t in range(1, N):\n",
        "    predictive, likelihood, posterior = one_step_update(T, posterior_probs[t-1], data[t], means, sigma)\n",
        "    predictive_probs[t] = predictive\n",
        "    likelihoods[t] = likelihood\n",
        "    posterior_probs[t] = posterior\n",
        "\n",
        "  return predictive_probs, likelihoods, posterior_probs"
      ],
      "execution_count": null,
      "outputs": []
    },
    {
      "cell_type": "code",
      "metadata": {
        "id": "Ugvjv4vI1_Oy",
        "cellView": "form"
      },
      "source": [
        "#@title 1.4 Set the parameters\n",
        "T = np.array([[0.3, 0.4, 0.3], [0.25, 0.65, 0.1], [0.6, 0.1, 0.3]])\n",
        "means = np.array([120, 160, 80])\n",
        "sigma = np.array([27, 30, 28])\n",
        "N = 150\n",
        "startProba = np.array([1,0,0]) #The initial state is healthy\n",
        "predictive_probs, likelihoods, posterior_probs = simulate_forward_inference(means, sigma, T, startProba, N, M)"
      ],
      "execution_count": null,
      "outputs": []
    },
    {
      "cell_type": "markdown",
      "metadata": {
        "id": "IlxGpurDWQxY"
      },
      "source": [
        "### 2) Graphically represent the evolution of the posteriors"
      ]
    },
    {
      "cell_type": "code",
      "metadata": {
        "colab": {
          "base_uri": "https://localhost:8080/",
          "height": 295
        },
        "id": "KTxo6sM2WbB6",
        "outputId": "42457cb1-96a4-49d3-c061-633c76603a30"
      },
      "source": [
        "#@title 2.1 Representation of the posteriors as a function of time\n",
        "prob_healthy = [p_vec[0] for p_vec in posterior_probs]\n",
        "prob_hyper   = [p_vec[1] for p_vec in posterior_probs]\n",
        "prob_hypo    = [p_vec[2] for p_vec in posterior_probs]\n",
        "\n",
        "fig, ax = plt.subplots()\n",
        "N_show = 20\n",
        "mat=np.zeros((150,3))\n",
        "states = np.empty(150, dtype=np.ndarray)\n",
        "\n",
        "size_healthy=np.repeat(30,150)\n",
        "size_hyper=np.repeat(30,150)\n",
        "size_hypo=np.repeat(30,150)\n",
        "\n",
        "for t in range(150):\n",
        "  vec = prob_healthy[t], prob_hyper[t], prob_hypo[t]\n",
        "  if vec[0] > vec[1] and vec[0] > vec[2]:\n",
        "    size_healthy[t]=60\n",
        "    mat[t][0] = prob_healthy[t]\n",
        "    states[t] = 'healthy'\n",
        "  if vec[1] > vec[0] and vec[1] > vec[2]:\n",
        "    size_hyper[t]=60\n",
        "    mat[t][1] = prob_hyper[t]\n",
        "    states[t] = 'hyper'\n",
        "  if vec[2] > vec[1] and vec[2] > vec[0]:\n",
        "    size_hypo[t]=60\n",
        "    mat[t][2] = prob_hypo[t]\n",
        "    states[t] = 'hypo'\n",
        "\n",
        "time=np.arange(N_show)\n",
        "ax.scatter(time[:N_show],prob_healthy[:N_show], color=\"green\",s=size_healthy[:N_show])    # RMQ faut encore plotter les days en int mais j'arrive pas \n",
        "ax.scatter(time[:N_show], prob_hyper[:N_show]  , color=\"red\",s=size_hyper[:N_show])\n",
        "ax.scatter(time[:N_show], prob_hypo[:N_show]   , color=\"blue\",s=size_hypo[:N_show])\n",
        "\n",
        "plt.xlabel('Days')   \n",
        "plt.ylabel('Probabilities')\n",
        "plt.title('Posteriors probabilities as a function of days')\n",
        "plt.show(fig)"
      ],
      "execution_count": 77,
      "outputs": [
        {
          "output_type": "display_data",
          "data": {
            "image/png": "[encoded data removed]",
            "text/plain": [
              "<Figure size 432x288 with 1 Axes>"
            ]
          },
          "metadata": {
            "needs_background": "light"
          }
        }
      ]
    },
    {
      "cell_type": "code",
      "metadata": {
        "colab": {
          "base_uri": "https://localhost:8080/",
          "height": 350
        },
        "id": "M_rFuYXlfOeT",
        "outputId": "8d97bf42-aada-407f-86fd-452494db97ae"
      },
      "source": [
        "#@title 2.1 Representation of the states as a function of time\n",
        "def plot_hmm1(noise_level, states, measurements, flag_m=True):\n",
        "  \"\"\"Plots HMM states and measurements for 1d states and measurements.\n",
        "\n",
        "  Args:\n",
        "    model (hmmlearn model):               hmmlearn model used to get state means.\n",
        "    states (numpy array of floats):       Samples of the states.\n",
        "    measurements (numpy array of floats): Samples of the states.\n",
        "  \"\"\"\n",
        "  #Correction to avoid model\n",
        "  means_vec = np.array([120., 160., 80.])\n",
        "  n_components = 3\n",
        "  vars_vec = np.ones(3) * noise_level * noise_level\n",
        "  T = states.shape[0]\n",
        "  nsteps = states.size\n",
        "  aspect_ratio = 3\n",
        "  fig, ax1 = plt.subplots(figsize=(10,5))\n",
        "  #states_forplot = list(map(lambda s: means_vec[s], states))\n",
        "  ax1.step(np.arange(nsteps), states, \"-\", where=\"mid\", alpha=1.0, c=\"green\")\n",
        "  ax1.set_xlabel(\"Time\")\n",
        "  ax1.set_ylabel(\"Latent State\", c=\"green\")\n",
        "  ax1.set_yticks([120, 160, 80])\n",
        "  ax1.set_yticklabels([\"Healthy\", \"Hyper\", \"Hypo\"])\n",
        "  ax1.set_xticks(np.arange(0,T,10))\n",
        "  ymin = min(measurements)\n",
        "  ymax = max(measurements)\n",
        "  ax2 = ax1.twinx()\n",
        "  ax2.set_ylabel(\"Measurements\", c=\"crimson\")\n",
        "\n",
        "  # show measurement gaussian\n",
        "  if flag_m:\n",
        "    ax2.plot([T,T],ax2.get_ylim(), color=\"maroon\", alpha=0.6)\n",
        "    for i in range(n_components):\n",
        "      mu = means_vec[i]\n",
        "      scale = np.sqrt(vars_vec[i])\n",
        "      rv = stats.norm(mu, scale)\n",
        "      num_points = 50\n",
        "      domain = np.linspace(mu-3*scale, mu+3*scale, num_points)\n",
        "      left = np.repeat(float(T), num_points)\n",
        "      # left = np.repeat(0.0, num_points)\n",
        "      offset = rv.pdf(domain)\n",
        "      offset *= T / 15\n",
        "      lbl = \"measurement\" if i == 0 else \"\"\n",
        "      # ax2.fill_betweenx(domain, left, left-offset, alpha=0.3, lw=2, color=\"maroon\", label=lbl)\n",
        "      ax2.fill_betweenx(domain, left+offset, left, alpha=0.3, lw=2, color=\"maroon\", label=lbl)\n",
        "      ax2.scatter(np.arange(nsteps), measurements, c=\"crimson\", s=4)\n",
        "      ax2.legend(loc=\"upper left\")\n",
        "    ax1.set_ylim(ax2.get_ylim())\n",
        "  plt.title('Representation of the state of the patient along days')\n",
        "  plt.show(fig)\n",
        "\n",
        "tensions=np.zeros(len(states))\n",
        "for i in range(len(states)):\n",
        "  if states[i] == 'healthy':\n",
        "    tensions[i] = 120\n",
        "  if states[i] == 'hyper':\n",
        "    tensions[i] = 160\n",
        "  if states[i] == 'hypo':\n",
        "    tensions[i] = 80\n",
        "\n",
        "plot_hmm1(sigma, tensions, M, flag_m=True)"
      ],
      "execution_count": 78,
      "outputs": [
        {
          "output_type": "display_data",
          "data": {
            "image/png": "[encoded data removed]",
            "text/plain": [
              "<Figure size 720x360 with 2 Axes>"
            ]
          },
          "metadata": {
            "needs_background": "light"
          }
        }
      ]
    },
    {
      "cell_type": "markdown",
      "metadata": {
        "id": "J02if5MxkiDD"
      },
      "source": [
        "### 3) Define an optimal policy"
      ]
    },
    {
      "cell_type": "markdown",
      "metadata": {
        "id": "H50cizofS0UN"
      },
      "source": [
        "### Explanation of our policy\n",
        "To define our policy, we decided to optimize the action to do taking into account the utility after taking the drug (or not) and the cost. For each action (do nothing, take drug A, take drug B), we calculate what would be the utility after doing this action knowing that the drugs have a cost of 2 and that, in the case of the HMM model, the patient has a probability $p_0$ to be healthy, $p_1$ to be in hyper tension and $p_2$ to be in hypo tension. We know that the utility of being healthy is 2, the one of being in hyper tension is -2 and to be in hypo tension is a utility of -1.\n",
        "\n",
        "We can see below a tree which helps us to calculate the impact of each action according to the patient's current state.\n",
        "\n",
        "### An example using our policy\n",
        "We will give an example in order to show our policy. Let's consider that the posteriors probabilities are $p_0 = 0.2$, $p_1 = 0.1$ and $p_2 = 0.7$. That means that the patient has a probability of 20% of being healthy, 10% of being in hyper tension and 70% of being in hypo tension.\n",
        "In that case, the combination of the utility and the cost is -0.5 if the patient does nothing, -2.42 if the patient takes drug A and -1.14 if the patient takes drug B (see calculations below). As the impact of doing nothing is the highest, the patient will take drug B.\n",
        "\n",
        "Calculations:\n",
        "\n",
        "Do nothing: $p_0 * p(utility=2)*utility_{health} + p_1*p(utility=-2)*utility_{hyper} + p_2*p(utility=-1)*utility_{hypo}$\n",
        "\n",
        "$= 0.2*1*2 + 0.1*1*(-2) + 0.7*1*(-1) = -0.5$\n",
        "\n",
        "Take drug A: $p_0*(p(utility=-1)*utility_{hypo} + p(utility=2)*utility_{healthy}) + p_1*(p(utility=2)*utility_{healthy} + p(utility=-2)*utility_{hyper}) + p_2*p(utility=-1)*utility_{hypo} - costA$\n",
        "\n",
        "$= 0.2*(0.4*(-1) + 0.6*2) + 0.1*(0.8*2 + 0.2*(-2)) + 0.7*1*(-1) - 2 = -2.42$\n",
        "\n",
        "Take drug B: $p_0*(p(utility=-2)*utility_{hyper} + p(utility=2)*utility_{healthy}) + p_1*p(utility=-2)*utility_{hyper} + p_2*(p(utility=2)*utility_{healthy} + p(utility=-1)*utility_{hypo}) - costB$\n",
        "\n",
        "$= 0.2*(0.4*(-2) + 0.6*2) + 0.1*1*(-2) + 0.7*(0.8*2 + 0.2*(-1)) - 2 = -1.14$\n",
        "\n",
        "We could be challenged by the fact that the 3 values obtained are negative because it means that in all cases, whatever the patient does, the result of his action is negative. This is quite logical because the patient is ill, in our example he probably suffers from hypotension and is therefore in poor health and in our example the drugs are quite expensive."
      ]
    },
    {
      "cell_type": "code",
      "metadata": {
        "id": "cEq0TWS5RgkN"
      },
      "source": [
        "#Upload tree\n",
        "from google.colab import files\n",
        "from IPython.display import Image\n",
        "uploaded = files.upload()"
      ],
      "execution_count": null,
      "outputs": []
    },
    {
      "cell_type": "code",
      "metadata": {
        "id": "wv7k_YknSdxJ"
      },
      "source": [
        "#@title Policy tree\n",
        "#Show tree\n",
        "Image('Tree.JPG')"
      ],
      "execution_count": null,
      "outputs": []
    },
    {
      "cell_type": "markdown",
      "metadata": {
        "id": "pJwUZ38blDge"
      },
      "source": [
        "### 4) Based on your policy, determine the drug to take at each time step for the given data"
      ]
    },
    {
      "cell_type": "code",
      "metadata": {
        "id": "6J9KbO1e-zf_"
      },
      "source": [
        "#@title\n",
        "\n",
        "p3 = 1.0\n",
        "\n",
        "utility_healthy = 2\n",
        "utility_hypo = -1\n",
        "utility_hyper = -2\n",
        "\n",
        "def actions(costA, costB, states_proba,p1,p2,N):\n",
        "  \n",
        "  healthy = np.array([p3*utility_healthy, p1*utility_hypo+(1-p1)*utility_healthy-costA , p1*utility_hyper+(1-p1)*utility_healthy-costB])\n",
        "  hypo    = np.array([p3*utility_hypo   , p3*utility_hypo-costA                        , p2*utility_healthy+(1-p2)*utility_hypo-costB ])\n",
        "  hyper   = np.array([p3*utility_hyper  , p2*utility_healthy+(1-p2)*utility_hyper-costA, p3*utility_hyper-costB                       ])\n",
        "\n",
        "  benefice = np.array([healthy, hyper, hypo])\n",
        "  benef = states_proba.dot(benefice)\n",
        "\n",
        "  actionToDo = ['']*N\n",
        "  maximum = np.zeros(N)\n",
        "  stat = np.zeros(3)\n",
        "  \n",
        "  for i in range(N):\n",
        "    maximum = np.argmax(benef[i])\n",
        "\n",
        "    if maximum == 0:\n",
        "      stat[0] += 1\n",
        "      actionToDo[i] = 'Do nothing'\n",
        "    if maximum == 1:\n",
        "      stat[1] += 1\n",
        "      actionToDo[i] = 'Drug A'\n",
        "    if maximum == 2:\n",
        "      stat[2] += 1\n",
        "      actionToDo[i] = 'Drug B'\n",
        "\n",
        "  return actionToDo"
      ],
      "execution_count": null,
      "outputs": []
    },
    {
      "cell_type": "code",
      "metadata": {
        "id": "zxFqMf1NyYAI"
      },
      "source": [
        "#@title\n",
        "def get_count_states():\n",
        "  count_states=np.zeros([3,3])\n",
        "\n",
        "  for i in range(100):\n",
        "    if S[i] == 'healthy':\n",
        "      if states[i] == 'healthy':\n",
        "        count_states[0][0] += 1\n",
        "      if states[i] == 'hyper':\n",
        "          count_states[0][1] += 1\n",
        "      if states[i] == 'hypo':\n",
        "        count_states[0][2] += 1\n",
        "\n",
        "    if S[i] == 'hyper':\n",
        "      if states[i] == 'healthy':\n",
        "        count_states[1][0] += 1\n",
        "      if states[i] == 'hyper':\n",
        "        count_states[1][1] += 1\n",
        "      if states[i] == 'hypo':\n",
        "        count_states[1][2] += 1\n",
        "\n",
        "    if S[i] == 'hypo':\n",
        "      if states[i] == 'healthy':\n",
        "        count_states[2][0] += 1\n",
        "      if states[i] == 'hyper':\n",
        "        count_states[2][1] += 1\n",
        "      if states[i] == 'hypo':\n",
        "        count_states[2][2] += 1\n",
        "\n",
        "  sum_healthy=np.sum(count_states[0])\n",
        "  sum_hyper=np.sum(count_states[1])\n",
        "  sum_hypo=np.sum(count_states[2])\n",
        "\n",
        "  print('Patient is healthy: \\n Considered as healthy: {} \\n Considered as hyper: {} \\n Considered as hypo: {} \\n'.format(count_states[0][0],count_states[0][1],count_states[0][2]))\n",
        "  print('Patient is hyper: \\n Considered as hyper: {} \\n Considered as healthy: {} \\n Considered as hypo: {} \\n'.format(count_states[1][1],count_states[1][0],count_states[1][2]))\n",
        "  print('Patient is hypo: \\n Considered as hypo: {} \\n Considered as healthy: {} \\n Considered as hyper: {} \\n'.format(count_states[2][2],count_states[2][0],count_states[2][1]))"
      ],
      "execution_count": null,
      "outputs": []
    },
    {
      "cell_type": "code",
      "metadata": {
        "id": "ndY2-ml7b73Y"
      },
      "source": [
        "#@title\n",
        "def get_count_actions(p1,p2,costA,costB):\n",
        "  count = 0\n",
        "  true_states = np.zeros((100,3))\n",
        "  for i in range(100):\n",
        "    if S[i] == 'healthy':\n",
        "      true_states[i][0] = 1\n",
        "    if S[i] == 'hyper':\n",
        "      true_states[i][1] = 1\n",
        "    if S[i] == 'hypo':\n",
        "      true_states[i][2] = 1\n",
        "    if S[i] == states[i]:\n",
        "      count += 1\n",
        "  #print(count/100)\n",
        "  #print(true_states)\n",
        "\n",
        "  act1=actions(costA=costA, costB=costB, states_proba=posterior_probs,p1=p1,p2=p2,N=100)\n",
        "  act2=actions(costA=costA, costB=costB, states_proba=true_states,p1=p1,p2=p2,N=100)\n",
        "\n",
        "  count=[0]*9\n",
        "\n",
        "  for i in range(100):\n",
        "    if act1[i] == 'Do nothing':\n",
        "      if act2[i] == 'Do nothing':\n",
        "        count[0] += 1\n",
        "      if act2[i] == 'Drug A':\n",
        "        count[1] += 1\n",
        "      if act2[i] == 'Drug B':\n",
        "        count[2] += 1\n",
        "\n",
        "    if act1[i] == 'Drug A':\n",
        "      if act2[i] == 'Drug A':\n",
        "        count[3] += 1\n",
        "      if act2[i] == 'Do nothing':\n",
        "        count[4] += 1\n",
        "      if act2[i] == 'Drug B':\n",
        "        count[5] += 1\n",
        "\n",
        "    if act1[i] == 'Drug B':\n",
        "      if act2[i] == 'Drug B':\n",
        "        count[6] += 1\n",
        "      if act2[i] == 'Do nothing':\n",
        "        count[7] += 1\n",
        "      if act2[i] == 'Drug A':\n",
        "        count[8] += 1\n",
        "\n",
        "\n",
        "  print('Ok to do nothing: {}\\nDo nothing instead of taking drug A: {}\\nDo nothing instead of taking drug B: {} \\n'.format(count[0],count[1],count[2]))\n",
        "  print('Ok to take drug A: {}\\nTake drug A instead of doing nothing: {}\\nTake drug A instead of taking drug B: {} \\n'.format(count[3],count[4],count[5]))\n",
        "  print('Ok to take drug B: {}\\nTake drug B instead of doing nothing: {}\\nTake drug B instead of taking drug A: {} \\n'.format(count[6],count[7],count[8]))\n"
      ],
      "execution_count": null,
      "outputs": []
    },
    {
      "cell_type": "code",
      "metadata": {
        "id": "sGLyJ1x07d9L"
      },
      "source": [
        "@widgets.interact\n",
        "def plot_samples_widget(p1=widgets.FloatSlider(min=0.0, max=1.0, step=0.01, value=0.4),p2=widgets.FloatSlider(min=0.0, max=1.0, step=0.01, value=0.8),costA=widgets.IntSlider(min=-3, max=5, step=1, value=2),costB=widgets.IntSlider(min=-3, max=5, step=1, value=2)):\n",
        "  get_count_actions(p1,p2,costA,costB)"
      ],
      "execution_count": null,
      "outputs": []
    },
    {
      "cell_type": "code",
      "metadata": {
        "id": "QA5AfASZFj3C"
      },
      "source": [
        "def get_last():\n",
        "  a=actions(costA=2, costB=2, states_proba=posterior_probs,p1=0.4,p2=0.8,N=150)\n",
        "  print(a)\n",
        "\n",
        "#get_last50()"
      ],
      "execution_count": null,
      "outputs": []
    }
  ]
}