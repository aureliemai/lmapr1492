{
 "cells": [
  {
   "cell_type": "code",
   "execution_count": 4,
   "id": "dimensional-supply",
   "metadata": {},
   "outputs": [],
   "source": [
    "from pymatgen.ext.matproj import MPRester \n",
    "from pymatgen.symmetry.analyzer import SpacegroupAnalyzer"
   ]
  },
  {
   "cell_type": "code",
   "execution_count": 5,
   "id": "dimensional-firewall",
   "metadata": {},
   "outputs": [
    {
     "name": "stdout",
     "output_type": "stream",
     "text": [
      "Full Formula (Na1 Rh1 O2)\n",
      "Reduced Formula: NaRhO2\n",
      "abc   :   5.491188   5.491188   5.491189\n",
      "angles:  33.568748  33.568748  33.568744\n",
      "Sites (4)\n",
      "  #  SP           a         b         c    magmom\n",
      "---  ----  --------  --------  --------  --------\n",
      "  0  Na    0         0         0               -0\n",
      "  1  Rh    0.5       0.5       0.5             -0\n",
      "  2  O     0.767097  0.767097  0.767097         0\n",
      "  3  O     0.232903  0.232903  0.232903         0\n"
     ]
    }
   ],
   "source": [
    "with MPRester(\"hrVQX4GT6umOK2yC\") as m:\n",
    "    struct =  m.get_structure_by_material_id(\"mp-8830\")\n",
    "    \n",
    "print(struct)"
   ]
  },
  {
   "cell_type": "code",
   "execution_count": 24,
   "id": "ongoing-bathroom",
   "metadata": {},
   "outputs": [
    {
     "name": "stdout",
     "output_type": "stream",
     "text": [
      "\u001b[1mVecteurs de bases du réseau direct :\n",
      " \n",
      "\u001b[0mVecteurs\n",
      " 5.257254 -1.585694 0.000000\n",
      "5.257254 1.585694 0.000000\n",
      "4.778977 0.000000 2.704539\n",
      "\n",
      "Longueurs (en Angstrom): (5.491187948172234, 5.491187948172234, 5.491188611680535)\n",
      "\n",
      "Angles (en degré): (33.568748059385776, 33.568748059385776, 33.568743779152065)\n"
     ]
    }
   ],
   "source": [
    "vect = struct.lattice\n",
    "print(\"\\033[1m\" + \"Vecteurs de base du réseau direct :\\n \\n\" + \"\\033[0m\" +\"Vecteurs\\n\",vect)\n",
    "long = vect.abc\n",
    "print(\"\\nLongueurs (en Angstrom):\",long)\n",
    "ang = vect.angles\n",
    "print(\"\\nAngles (en degré):\",ang)"
   ]
  },
  {
   "cell_type": "code",
   "execution_count": 25,
   "id": "soviet-intake",
   "metadata": {},
   "outputs": [
    {
     "name": "stdout",
     "output_type": "stream",
     "text": [
      "\u001b[1mVecteurs de base du réseau réciproque :\n",
      " \n",
      "\u001b[0mVecteurs\n",
      " 0.597573 -1.981210 -1.055924\n",
      "0.597573 1.981210 -1.055924\n",
      "0.000000 0.000000 2.323200\n",
      "\n",
      "Longueurs (en Angstrom): (2.323200654047471, 2.323200654047471, 2.3232001118044834)\n",
      "\n",
      "Angles (en degré): (117.03357547878358, 117.03357547878358, 117.03358811910428)\n"
     ]
    }
   ],
   "source": [
    "vect_recip = vect.reciprocal_lattice\n",
    "print(\"\\033[1m\" + \"Vecteurs de base du réseau réciproque :\\n \\n\" + \"\\033[0m\" +\"Vecteurs\\n\",vect_recip)\n",
    "long_recip = vect_recip.abc\n",
    "print(\"\\nLongueurs (en Angstrom):\",long_recip)\n",
    "ang_recip = vect_recip.angles\n",
    "print(\"\\nAngles (en degré):\",ang_recip)"
   ]
  },
  {
   "cell_type": "code",
   "execution_count": 28,
   "id": "funny-minneapolis",
   "metadata": {},
   "outputs": [
    {
     "name": "stdout",
     "output_type": "stream",
     "text": [
      "Type de maille: rhombohedral\n",
      "Système cristallin : trigonal\n",
      "Groupe ponctuel : -3m\n"
     ]
    }
   ],
   "source": [
    "lattice_type = SpacegroupAnalyzer(struct).get_lattice_type()\n",
    "print(\"Type de maille:\",lattice_type)\n",
    "crystal_syst = SpacegroupAnalyzer(struct).get_crystal_system()\n",
    "print(\"Système cristallin :\",crystal_syst)\n",
    "point_group = SpacegroupAnalyzer(struct).get_point_group_symbol()\n",
    "print(\"Groupe ponctuel :\",point_group)"
   ]
  },
  {
   "cell_type": "code",
   "execution_count": null,
   "id": "powerful-concentration",
   "metadata": {},
   "outputs": [],
   "source": []
  }
 ],
 "metadata": {
  "kernelspec": {
   "display_name": "Python 3",
   "language": "python",
   "name": "python3"
  },
  "language_info": {
   "codemirror_mode": {
    "name": "ipython",
    "version": 3
   },
   "file_extension": ".py",
   "mimetype": "text/x-python",
   "name": "python",
   "nbconvert_exporter": "python",
   "pygments_lexer": "ipython3",
   "version": "3.6.8"
  }
 },
 "nbformat": 4,
 "nbformat_minor": 5
}
