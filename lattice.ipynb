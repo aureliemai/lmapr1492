{
 "cells": [
  {
   "cell_type": "code",
   "execution_count": 3,
   "id": "dimensional-supply",
   "metadata": {},
   "outputs": [],
   "source": [
    "from pymatgen.ext.matproj import MPRester \n",
    "from pymatgen.symmetry.analyzer import SpacegroupAnalyzer"
   ]
  },
  {
   "cell_type": "code",
   "execution_count": 4,
   "id": "dimensional-firewall",
   "metadata": {},
   "outputs": [
    {
     "name": "stdout",
     "output_type": "stream",
     "text": [
      "Full Formula (Ti1 Co1 Sb1)\n",
      "Reduced Formula: TiCoSb\n",
      "abc   :   4.167376   4.167376   4.167376\n",
      "angles:  60.000000  60.000000  60.000000\n",
      "Sites (3)\n",
      "  #  SP       a     b     c    magmom\n",
      "---  ----  ----  ----  ----  --------\n",
      "  0  Ti    0     0     0        0.001\n",
      "  1  Co    0.25  0.25  0.25    -0.001\n",
      "  2  Sb    0.5   0.5   0.5     -0\n"
     ]
    }
   ],
   "source": [
    "with MPRester(\"CfP3t0zy6KRi8xvk\") as m:\n",
    "    struct =  m.get_structure_by_material_id(\"mp-5967\")\n",
    "    \n",
    "print(struct)"
   ]
  },
  {
   "cell_type": "code",
   "execution_count": 5,
   "id": "ongoing-bathroom",
   "metadata": {},
   "outputs": [
    {
     "name": "stdout",
     "output_type": "stream",
     "text": [
      "\u001b[1mVecteurs de base du réseau direct :\n",
      " \n",
      "\u001b[0mVecteurs\n",
      " 0.000000 2.946780 2.946780\n",
      "2.946780 0.000000 2.946780\n",
      "2.946780 2.946780 0.000000\n",
      "\n",
      "Longueurs (en Angstrom): (4.167376241329789, 4.167376241329789, 4.167376241329789)\n",
      "\n",
      "Angles (en degré): (60.00000000000001, 60.00000000000001, 60.00000000000001)\n"
     ]
    }
   ],
   "source": [
    "vect = struct.lattice\n",
    "print(\"\\033[1m\" + \"Vecteurs de base du réseau direct :\\n \\n\" + \"\\033[0m\" +\"Vecteurs\\n\",vect)\n",
    "long = vect.abc\n",
    "print(\"\\nLongueurs (en Angstrom):\",long)\n",
    "ang = vect.angles\n",
    "print(\"\\nAngles (en degré):\",ang)"
   ]
  },
  {
   "cell_type": "code",
   "execution_count": 6,
   "id": "soviet-intake",
   "metadata": {},
   "outputs": [
    {
     "name": "stdout",
     "output_type": "stream",
     "text": [
      "\u001b[1mVecteurs de base du réseau réciproque :\n",
      " \n",
      "\u001b[0mVecteurs\n",
      " -1.066110 1.066110 1.066110\n",
      "1.066110 -1.066110 1.066110\n",
      "1.066110 1.066110 -1.066110\n",
      "\n",
      "Longueurs (en Angstrom): (1.8465572905689105, 1.8465572905689105, 1.8465572905689105)\n",
      "\n",
      "Angles (en degré): (109.47122063449069, 109.47122063449069, 109.47122063449069)\n"
     ]
    }
   ],
   "source": [
    "vect_recip = vect.reciprocal_lattice\n",
    "print(\"\\033[1m\" + \"Vecteurs de base du réseau réciproque :\\n \\n\" + \"\\033[0m\" +\"Vecteurs\\n\",vect_recip)\n",
    "long_recip = vect_recip.abc\n",
    "print(\"\\nLongueurs (en Angstrom):\",long_recip)\n",
    "ang_recip = vect_recip.angles\n",
    "print(\"\\nAngles (en degré):\",ang_recip)"
   ]
  },
  {
   "cell_type": "code",
   "execution_count": 7,
   "id": "funny-minneapolis",
   "metadata": {},
   "outputs": [
    {
     "name": "stdout",
     "output_type": "stream",
     "text": [
      "Type de maille: cubic\n",
      "Système cristallin : cubic\n",
      "Groupe ponctuel : -43m\n"
     ]
    }
   ],
   "source": [
    "lattice_type = SpacegroupAnalyzer(struct).get_lattice_type()\n",
    "print(\"Type de maille:\",lattice_type)\n",
    "crystal_syst = SpacegroupAnalyzer(struct).get_crystal_system()\n",
    "print(\"Système cristallin :\",crystal_syst)\n",
    "point_group = SpacegroupAnalyzer(struct).get_point_group_symbol()\n",
    "print(\"Groupe ponctuel :\",point_group)"
   ]
  },
  {
   "cell_type": "code",
   "execution_count": null,
   "id": "powerful-concentration",
   "metadata": {},
   "outputs": [],
   "source": []
  }
 ],
 "metadata": {
  "kernelspec": {
   "display_name": "Python 3",
   "language": "python",
   "name": "python3"
  },
  "language_info": {
   "codemirror_mode": {
    "name": "ipython",
    "version": 3
   },
   "file_extension": ".py",
   "mimetype": "text/x-python",
   "name": "python",
   "nbconvert_exporter": "python",
   "pygments_lexer": "ipython3",
   "version": "3.6.8"
  }
 },
 "nbformat": 4,
 "nbformat_minor": 5
}
