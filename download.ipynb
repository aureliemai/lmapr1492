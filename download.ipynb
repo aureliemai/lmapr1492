{
 "cells": [
  {
   "cell_type": "code",
   "execution_count": 3,
   "id": "familiar-still",
   "metadata": {},
   "outputs": [],
   "source": [
    "from pymatgen.ext.matproj import MPRester\n",
    "from pymatgen.io.cif import CifWriter\n",
    "from pymatgen.io.cif import CifParser"
   ]
  },
  {
   "cell_type": "code",
   "execution_count": 4,
   "id": "widespread-southwest",
   "metadata": {},
   "outputs": [],
   "source": [
    "with MPRester(\"hrVQX4GT6umOK2yC\") as m:\n",
    "\n",
    "    # Structure for material id\n",
    "    structure = m.get_structure_by_material_id(\"mp-8830\")\n",
    "\n",
    "    # Dos for material id\n",
    "    dos = m.get_dos_by_material_id(\"mp-8830\")\n",
    "\n",
    "    # Bandstructure for material id\n",
    "    bandstructure = m.get_bandstructure_by_material_id(\"mp-8830\")\n",
    "    \n",
    "    w = CifWriter(structure)\n",
    "    w.write_file('NaRhO2.cif')"
   ]
  },
  {
   "cell_type": "code",
   "execution_count": 6,
   "id": "equivalent-island",
   "metadata": {},
   "outputs": [
    {
     "name": "stdout",
     "output_type": "stream",
     "text": [
      "Full Formula (Na1 Rh1 O2)\n",
      "Reduced Formula: NaRhO2\n",
      "abc   :   5.491188   5.491188   5.491189\n",
      "angles:  33.568748  33.568748  33.568744\n",
      "Sites (4)\n",
      "  #  SP           a         b         c    magmom\n",
      "---  ----  --------  --------  --------  --------\n",
      "  0  Na    0         0         0               -0\n",
      "  1  Rh    0.5       0.5       0.5             -0\n",
      "  2  O     0.767097  0.767097  0.767097         0\n",
      "  3  O     0.232903  0.232903  0.232903         0\n",
      "Complete DOS for Full Formula (Na1 Rh1 O2)\n",
      "Reduced Formula: NaRhO2\n",
      "abc   :   5.491188   5.491188   5.491189\n",
      "angles:  33.568748  33.568748  33.568744\n",
      "Sites (4)\n",
      "  #  SP           a         b         c\n",
      "---  ----  --------  --------  --------\n",
      "  0  Na    0         0         0\n",
      "  1  Rh    0.5       0.5       0.5\n",
      "  2  O     0.767097  0.767097  0.767097\n",
      "  3  O     0.232903  0.232903  0.232903\n",
      "<pymatgen.electronic_structure.bandstructure.BandStructureSymmLine object at 0x7f3b6d2fe080>\n"
     ]
    }
   ],
   "source": [
    "print(structure)\n",
    "print(dos)\n",
    "print(bandstructure)"
   ]
  },
  {
   "cell_type": "code",
   "execution_count": null,
   "id": "north-antibody",
   "metadata": {},
   "outputs": [],
   "source": []
  },
  {
   "cell_type": "code",
   "execution_count": null,
   "id": "motivated-western",
   "metadata": {},
   "outputs": [],
   "source": []
  }
 ],
 "metadata": {
  "kernelspec": {
   "display_name": "Python 3",
   "language": "python",
   "name": "python3"
  },
  "language_info": {
   "codemirror_mode": {
    "name": "ipython",
    "version": 3
   },
   "file_extension": ".py",
   "mimetype": "text/x-python",
   "name": "python",
   "nbconvert_exporter": "python",
   "pygments_lexer": "ipython3",
   "version": "3.6.8"
  }
 },
 "nbformat": 4,
 "nbformat_minor": 5
}
