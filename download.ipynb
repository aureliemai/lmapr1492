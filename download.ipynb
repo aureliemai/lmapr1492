{
 "cells": [
  {
   "cell_type": "code",
   "execution_count": 3,
   "id": "familiar-still",
   "metadata": {},
   "outputs": [],
   "source": [
    "from pymatgen.ext.matproj import MPRester\n",
    "from pymatgen.io.cif import CifWriter\n",
    "from pymatgen.io.cif import CifParser"
   ]
  },
  {
   "cell_type": "code",
   "execution_count": 4,
   "id": "widespread-southwest",
   "metadata": {},
   "outputs": [],
   "source": [
    "with MPRester(\"CfP3t0zy6KRi8xvk\") as m:\n",
    "\n",
    "    # Structure for material id\n",
    "    structure = m.get_structure_by_material_id(\"mp-5967\")\n",
    "\n",
    "    # Dos for material id\n",
    "    dos = m.get_dos_by_material_id(\"mp-5967\")\n",
    "\n",
    "    # Bandstructure for material id\n",
    "    bandstructure = m.get_bandstructure_by_material_id(\"mp-5967\")\n",
    "    \n",
    "    w = CifWriter(structure)\n",
    "    w.write_file('TiCoSb.cif')"
   ]
  },
  {
   "cell_type": "code",
   "execution_count": 5,
   "id": "equivalent-island",
   "metadata": {},
   "outputs": [
    {
     "name": "stdout",
     "output_type": "stream",
     "text": [
      "Full Formula (Ti1 Co1 Sb1)\n",
      "Reduced Formula: TiCoSb\n",
      "abc   :   4.167376   4.167376   4.167376\n",
      "angles:  60.000000  60.000000  60.000000\n",
      "Sites (3)\n",
      "  #  SP       a     b     c    magmom\n",
      "---  ----  ----  ----  ----  --------\n",
      "  0  Ti    0     0     0        0.001\n",
      "  1  Co    0.25  0.25  0.25    -0.001\n",
      "  2  Sb    0.5   0.5   0.5     -0\n",
      "Complete DOS for Full Formula (Ti1 Co1 Sb1)\n",
      "Reduced Formula: TiCoSb\n",
      "abc   :   4.167376   4.167376   4.167376\n",
      "angles:  60.000000  60.000000  60.000000\n",
      "Sites (3)\n",
      "  #  SP       a     b     c\n",
      "---  ----  ----  ----  ----\n",
      "  0  Ti    0     0     0\n",
      "  1  Co    0.25  0.25  0.25\n",
      "  2  Sb    0.5   0.5   0.5\n",
      "<pymatgen.electronic_structure.bandstructure.BandStructureSymmLine object at 0x7fdd4866b9b0>\n"
     ]
    }
   ],
   "source": [
    "print(structure)\n",
    "print(dos)\n",
    "print(bandstructure)"
   ]
  },
  {
   "cell_type": "code",
   "execution_count": null,
   "id": "north-antibody",
   "metadata": {},
   "outputs": [],
   "source": []
  },
  {
   "cell_type": "code",
   "execution_count": null,
   "id": "motivated-western",
   "metadata": {},
   "outputs": [],
   "source": []
  }
 ],
 "metadata": {
  "kernelspec": {
   "display_name": "Python 3",
   "language": "python",
   "name": "python3"
  },
  "language_info": {
   "codemirror_mode": {
    "name": "ipython",
    "version": 3
   },
   "file_extension": ".py",
   "mimetype": "text/x-python",
   "name": "python",
   "nbconvert_exporter": "python",
   "pygments_lexer": "ipython3",
   "version": "3.6.8"
  }
 },
 "nbformat": 4,
 "nbformat_minor": 5
}
