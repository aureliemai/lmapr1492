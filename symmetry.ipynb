{
 "cells": [
  {
   "cell_type": "code",
   "execution_count": 15,
   "id": "focused-tulsa",
   "metadata": {},
   "outputs": [],
   "source": [
    "#import\n",
    "from pymatgen.ext.matproj import MPRester\n",
    "from pymatgen.io.cif import CifWriter\n",
    "from pymatgen.symmetry.analyzer import SpacegroupAnalyzer\n",
    "from jupyter_jsmol.pymatgen import quick_view"
   ]
  },
  {
   "cell_type": "code",
   "execution_count": 16,
   "id": "german-duncan",
   "metadata": {},
   "outputs": [],
   "source": [
    "#pour télécharger le ﬁchier CIF du matériau\n",
    "with MPRester(\"hrVQX4GT6umOK2yC\") as m:\n",
    "    # Structure for material id\n",
    "    structure = m.get_structure_by_material_id(\"mp-8830\")\n",
    "    w = CifWriter(structure)\n",
    "    w.write_file('NaRhO2.cif')"
   ]
  },
  {
   "cell_type": "code",
   "execution_count": 17,
   "id": "agreed-reply",
   "metadata": {},
   "outputs": [],
   "source": [
    "#Pour obtenir les opérations de symétrie\n",
    "sym = SpacegroupAnalyzer(structure).get_symmetry_operations(cartesian=False)\n",
    "#print(sym)"
   ]
  },
  {
   "cell_type": "markdown",
   "id": "funded-cologne",
   "metadata": {},
   "source": [
    "#### Opération de symétrie #1: (-x, -y, -z)"
   ]
  },
  {
   "cell_type": "code",
   "execution_count": 21,
   "id": "threatened-applicant",
   "metadata": {},
   "outputs": [
    {
     "data": {
      "application/vnd.jupyter.widget-view+json": {
       "model_id": "59a4689f35bd4669bfa2196c153927d3",
       "version_major": 2,
       "version_minor": 0
      },
      "text/plain": [
       "JsmolView(layout=Layout(align_self='stretch', height='400px'))"
      ]
     },
     "metadata": {},
     "output_type": "display_data"
    }
   ],
   "source": [
    "view=quick_view(structure)\n",
    "display(view)\n",
    "view.script(\"draw symop 2 {atomno=2}\")"
   ]
  },
  {
   "cell_type": "markdown",
   "id": "vanilla-reception",
   "metadata": {},
   "source": [
    "#### Opération de symétrie #2: (-y, -x, z)"
   ]
  },
  {
   "cell_type": "code",
   "execution_count": 20,
   "id": "bulgarian-journalism",
   "metadata": {},
   "outputs": [
    {
     "data": {
      "application/vnd.jupyter.widget-view+json": {
       "model_id": "a216016c025f4d54ab45ec10df96684c",
       "version_major": 2,
       "version_minor": 0
      },
      "text/plain": [
       "JsmolView(layout=Layout(align_self='stretch', height='400px'))"
      ]
     },
     "metadata": {},
     "output_type": "display_data"
    }
   ],
   "source": [
    "view=quick_view(structure)\n",
    "display(view)\n",
    "view.script(\"draw symop 8 {atomno=4}\")"
   ]
  },
  {
   "cell_type": "markdown",
   "id": "olympic-drink",
   "metadata": {},
   "source": [
    "#### Opération de symétrie #3: (-x+y, y, z)"
   ]
  },
  {
   "cell_type": "code",
   "execution_count": 22,
   "id": "radio-lebanon",
   "metadata": {
    "scrolled": false
   },
   "outputs": [
    {
     "data": {
      "application/vnd.jupyter.widget-view+json": {
       "model_id": "eb08e3feb53e4b50a73383c6253a1fe4",
       "version_major": 2,
       "version_minor": 0
      },
      "text/plain": [
       "JsmolView(layout=Layout(align_self='stretch', height='400px'))"
      ]
     },
     "metadata": {},
     "output_type": "display_data"
    }
   ],
   "source": [
    "view=quick_view(structure)\n",
    "display(view)\n",
    "view.script(\"draw symop 10 {atomno=1}\")"
   ]
  },
  {
   "cell_type": "code",
   "execution_count": null,
   "id": "legislative-neighborhood",
   "metadata": {},
   "outputs": [],
   "source": []
  }
 ],
 "metadata": {
  "kernelspec": {
   "display_name": "Python 3",
   "language": "python",
   "name": "python3"
  },
  "language_info": {
   "codemirror_mode": {
    "name": "ipython",
    "version": 3
   },
   "file_extension": ".py",
   "mimetype": "text/x-python",
   "name": "python",
   "nbconvert_exporter": "python",
   "pygments_lexer": "ipython3",
   "version": "3.6.8"
  }
 },
 "nbformat": 4,
 "nbformat_minor": 5
}
