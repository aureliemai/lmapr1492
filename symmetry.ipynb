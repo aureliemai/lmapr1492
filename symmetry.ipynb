{
 "cells": [
  {
   "cell_type": "code",
   "execution_count": 16,
   "id": "focused-tulsa",
   "metadata": {},
   "outputs": [],
   "source": [
    "#import\n",
    "from pymatgen.ext.matproj import MPRester\n",
    "from pymatgen.io.cif import CifWriter\n",
    "from pymatgen.symmetry.analyzer import SpacegroupAnalyzer\n",
    "from jupyter_jsmol.pymatgen import quick_view"
   ]
  },
  {
   "cell_type": "code",
   "execution_count": 24,
   "id": "german-duncan",
   "metadata": {},
   "outputs": [],
   "source": [
    "with MPRester(\"CfP3t0zy6KRi8xvk\") as m:\n",
    "\n",
    "    # Structure for material id\n",
    "    structure = m.get_structure_by_material_id(\"mp-5967\")\n",
    "\n",
    "    w = CifWriter(structure)\n",
    "    w.write_file('TiCoSb.cif')"
   ]
  },
  {
   "cell_type": "code",
   "execution_count": 25,
   "id": "agreed-reply",
   "metadata": {},
   "outputs": [],
   "source": [
    "#Pour obtenir les opérations de symétrie\n",
    "sym = SpacegroupAnalyzer(structure).get_symmetry_operations(cartesian=False)"
   ]
  },
  {
   "cell_type": "markdown",
   "id": "funded-cologne",
   "metadata": {},
   "source": [
    "#### Opération de symétrie #1: (-x, -y, -z)"
   ]
  },
  {
   "cell_type": "code",
   "execution_count": 26,
   "id": "threatened-applicant",
   "metadata": {},
   "outputs": [
    {
     "data": {
      "application/vnd.jupyter.widget-view+json": {
       "model_id": "4a87ff592e93454a8b0e850b73e2c72b",
       "version_major": 2,
       "version_minor": 0
      },
      "text/plain": [
       "JsmolView(layout=Layout(align_self='stretch', height='400px'))"
      ]
     },
     "metadata": {},
     "output_type": "display_data"
    }
   ],
   "source": [
    "view=quick_view(structure)\n",
    "display(view)\n",
    "view.script(\"draw symop 2 {atomno=2}\")"
   ]
  },
  {
   "cell_type": "markdown",
   "id": "vanilla-reception",
   "metadata": {},
   "source": [
    "#### Opération de symétrie #2: (-y, -x, z)"
   ]
  },
  {
   "cell_type": "code",
   "execution_count": 27,
   "id": "bulgarian-journalism",
   "metadata": {},
   "outputs": [
    {
     "data": {
      "application/vnd.jupyter.widget-view+json": {
       "model_id": "eac62036ca0a4618b6883ff334ee1687",
       "version_major": 2,
       "version_minor": 0
      },
      "text/plain": [
       "JsmolView(layout=Layout(align_self='stretch', height='400px'))"
      ]
     },
     "metadata": {},
     "output_type": "display_data"
    }
   ],
   "source": [
    "view=quick_view(structure)\n",
    "display(view)\n",
    "view.script(\"draw symop 8 {atomno=4}\")"
   ]
  },
  {
   "cell_type": "markdown",
   "id": "olympic-drink",
   "metadata": {},
   "source": [
    "#### Opération de symétrie #3: (-x+y, y, z)"
   ]
  },
  {
   "cell_type": "code",
   "execution_count": 28,
   "id": "radio-lebanon",
   "metadata": {
    "scrolled": false
   },
   "outputs": [
    {
     "data": {
      "application/vnd.jupyter.widget-view+json": {
       "model_id": "ef895968ecdf4e738ad3ec4052d77103",
       "version_major": 2,
       "version_minor": 0
      },
      "text/plain": [
       "JsmolView(layout=Layout(align_self='stretch', height='400px'))"
      ]
     },
     "metadata": {},
     "output_type": "display_data"
    }
   ],
   "source": [
    "view=quick_view(structure)\n",
    "display(view)\n",
    "view.script(\"draw symop 10 {atomno=1}\")"
   ]
  },
  {
   "cell_type": "code",
   "execution_count": null,
   "id": "legislative-neighborhood",
   "metadata": {},
   "outputs": [],
   "source": []
  }
 ],
 "metadata": {
  "kernelspec": {
   "display_name": "Python 3",
   "language": "python",
   "name": "python3"
  },
  "language_info": {
   "codemirror_mode": {
    "name": "ipython",
    "version": 3
   },
   "file_extension": ".py",
   "mimetype": "text/x-python",
   "name": "python",
   "nbconvert_exporter": "python",
   "pygments_lexer": "ipython3",
   "version": "3.6.8"
  }
 },
 "nbformat": 4,
 "nbformat_minor": 5
}
